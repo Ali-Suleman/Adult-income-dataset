{
 "cells": [
  {
   "cell_type": "code",
   "execution_count": 1,
   "id": "814458f6",
   "metadata": {},
   "outputs": [],
   "source": [
    "import pandas as pd\n",
    "import numpy as np"
   ]
  },
  {
   "cell_type": "code",
   "execution_count": 2,
   "id": "28d549f8",
   "metadata": {},
   "outputs": [
    {
     "data": {
      "text/html": [
       "<div>\n",
       "<style scoped>\n",
       "    .dataframe tbody tr th:only-of-type {\n",
       "        vertical-align: middle;\n",
       "    }\n",
       "\n",
       "    .dataframe tbody tr th {\n",
       "        vertical-align: top;\n",
       "    }\n",
       "\n",
       "    .dataframe thead th {\n",
       "        text-align: right;\n",
       "    }\n",
       "</style>\n",
       "<table border=\"1\" class=\"dataframe\">\n",
       "  <thead>\n",
       "    <tr style=\"text-align: right;\">\n",
       "      <th></th>\n",
       "      <th>age</th>\n",
       "      <th>workclass</th>\n",
       "      <th>fnlwgt</th>\n",
       "      <th>education</th>\n",
       "      <th>educational-num</th>\n",
       "      <th>marital-status</th>\n",
       "      <th>occupation</th>\n",
       "      <th>relationship</th>\n",
       "      <th>race</th>\n",
       "      <th>gender</th>\n",
       "      <th>capital-gain</th>\n",
       "      <th>capital-loss</th>\n",
       "      <th>hours-per-week</th>\n",
       "      <th>native-country</th>\n",
       "      <th>income</th>\n",
       "    </tr>\n",
       "  </thead>\n",
       "  <tbody>\n",
       "    <tr>\n",
       "      <th>0</th>\n",
       "      <td>25</td>\n",
       "      <td>Private</td>\n",
       "      <td>226802</td>\n",
       "      <td>11th</td>\n",
       "      <td>7</td>\n",
       "      <td>Never-married</td>\n",
       "      <td>Machine-op-inspct</td>\n",
       "      <td>Own-child</td>\n",
       "      <td>Black</td>\n",
       "      <td>Male</td>\n",
       "      <td>0.0</td>\n",
       "      <td>0.0</td>\n",
       "      <td>40.0</td>\n",
       "      <td>United-States</td>\n",
       "      <td>&lt;=50K</td>\n",
       "    </tr>\n",
       "    <tr>\n",
       "      <th>1</th>\n",
       "      <td>38</td>\n",
       "      <td>Private</td>\n",
       "      <td>89814</td>\n",
       "      <td>HS-grad</td>\n",
       "      <td>9</td>\n",
       "      <td>Married-civ-spouse</td>\n",
       "      <td>Farming-fishing</td>\n",
       "      <td>Husband</td>\n",
       "      <td>White</td>\n",
       "      <td>Male</td>\n",
       "      <td>0.0</td>\n",
       "      <td>0.0</td>\n",
       "      <td>50.0</td>\n",
       "      <td>United-States</td>\n",
       "      <td>&lt;=50K</td>\n",
       "    </tr>\n",
       "    <tr>\n",
       "      <th>2</th>\n",
       "      <td>28</td>\n",
       "      <td>Local-gov</td>\n",
       "      <td>336951</td>\n",
       "      <td>Assoc-acdm</td>\n",
       "      <td>12</td>\n",
       "      <td>Married-civ-spouse</td>\n",
       "      <td>Protective-serv</td>\n",
       "      <td>Husband</td>\n",
       "      <td>White</td>\n",
       "      <td>Male</td>\n",
       "      <td>0.0</td>\n",
       "      <td>0.0</td>\n",
       "      <td>40.0</td>\n",
       "      <td>United-States</td>\n",
       "      <td>&gt;50K</td>\n",
       "    </tr>\n",
       "    <tr>\n",
       "      <th>3</th>\n",
       "      <td>44</td>\n",
       "      <td>Private</td>\n",
       "      <td>160323</td>\n",
       "      <td>Some-college</td>\n",
       "      <td>10</td>\n",
       "      <td>Married-civ-spouse</td>\n",
       "      <td>Machine-op-inspct</td>\n",
       "      <td>Husband</td>\n",
       "      <td>Black</td>\n",
       "      <td>Male</td>\n",
       "      <td>7688.0</td>\n",
       "      <td>0.0</td>\n",
       "      <td>40.0</td>\n",
       "      <td>United-States</td>\n",
       "      <td>&gt;50K</td>\n",
       "    </tr>\n",
       "    <tr>\n",
       "      <th>4</th>\n",
       "      <td>18</td>\n",
       "      <td>?</td>\n",
       "      <td>103497</td>\n",
       "      <td>Some-college</td>\n",
       "      <td>10</td>\n",
       "      <td>Never-married</td>\n",
       "      <td>?</td>\n",
       "      <td>Own-child</td>\n",
       "      <td>White</td>\n",
       "      <td>Female</td>\n",
       "      <td>0.0</td>\n",
       "      <td>0.0</td>\n",
       "      <td>30.0</td>\n",
       "      <td>United-States</td>\n",
       "      <td>&lt;=50K</td>\n",
       "    </tr>\n",
       "    <tr>\n",
       "      <th>5</th>\n",
       "      <td>34</td>\n",
       "      <td>Private</td>\n",
       "      <td>198693</td>\n",
       "      <td>10th</td>\n",
       "      <td>6</td>\n",
       "      <td>Never-married</td>\n",
       "      <td>Other-service</td>\n",
       "      <td>Not-in-family</td>\n",
       "      <td>White</td>\n",
       "      <td>Male</td>\n",
       "      <td>0.0</td>\n",
       "      <td>0.0</td>\n",
       "      <td>30.0</td>\n",
       "      <td>United-States</td>\n",
       "      <td>&lt;=50K</td>\n",
       "    </tr>\n",
       "    <tr>\n",
       "      <th>6</th>\n",
       "      <td>29</td>\n",
       "      <td>?</td>\n",
       "      <td>227026</td>\n",
       "      <td>HS-grad</td>\n",
       "      <td>9</td>\n",
       "      <td>Never-married</td>\n",
       "      <td>?</td>\n",
       "      <td>Unmarried</td>\n",
       "      <td>Black</td>\n",
       "      <td>Male</td>\n",
       "      <td>0.0</td>\n",
       "      <td>0.0</td>\n",
       "      <td>40.0</td>\n",
       "      <td>United-States</td>\n",
       "      <td>&lt;=50K</td>\n",
       "    </tr>\n",
       "    <tr>\n",
       "      <th>7</th>\n",
       "      <td>63</td>\n",
       "      <td>Self-emp-not-inc</td>\n",
       "      <td>104626</td>\n",
       "      <td>Prof-school</td>\n",
       "      <td>15</td>\n",
       "      <td>Married-civ-spouse</td>\n",
       "      <td>Prof-specialty</td>\n",
       "      <td>Husband</td>\n",
       "      <td>White</td>\n",
       "      <td>Male</td>\n",
       "      <td>3103.0</td>\n",
       "      <td>0.0</td>\n",
       "      <td>32.0</td>\n",
       "      <td>United-States</td>\n",
       "      <td>&gt;50K</td>\n",
       "    </tr>\n",
       "    <tr>\n",
       "      <th>8</th>\n",
       "      <td>24</td>\n",
       "      <td>Private</td>\n",
       "      <td>369667</td>\n",
       "      <td>Some-college</td>\n",
       "      <td>10</td>\n",
       "      <td>Never-married</td>\n",
       "      <td>Other-service</td>\n",
       "      <td>Unmarried</td>\n",
       "      <td>White</td>\n",
       "      <td>Female</td>\n",
       "      <td>0.0</td>\n",
       "      <td>0.0</td>\n",
       "      <td>40.0</td>\n",
       "      <td>United-States</td>\n",
       "      <td>&lt;=50K</td>\n",
       "    </tr>\n",
       "    <tr>\n",
       "      <th>9</th>\n",
       "      <td>55</td>\n",
       "      <td>Private</td>\n",
       "      <td>104996</td>\n",
       "      <td>7th-8th</td>\n",
       "      <td>4</td>\n",
       "      <td>Married-civ-spouse</td>\n",
       "      <td>Craft-repair</td>\n",
       "      <td>Husband</td>\n",
       "      <td>White</td>\n",
       "      <td>Male</td>\n",
       "      <td>0.0</td>\n",
       "      <td>0.0</td>\n",
       "      <td>10.0</td>\n",
       "      <td>United-States</td>\n",
       "      <td>&lt;=50K</td>\n",
       "    </tr>\n",
       "  </tbody>\n",
       "</table>\n",
       "</div>"
      ],
      "text/plain": [
       "   age         workclass  fnlwgt     education  educational-num  \\\n",
       "0   25           Private  226802          11th                7   \n",
       "1   38           Private   89814       HS-grad                9   \n",
       "2   28         Local-gov  336951    Assoc-acdm               12   \n",
       "3   44           Private  160323  Some-college               10   \n",
       "4   18                 ?  103497  Some-college               10   \n",
       "5   34           Private  198693          10th                6   \n",
       "6   29                 ?  227026       HS-grad                9   \n",
       "7   63  Self-emp-not-inc  104626   Prof-school               15   \n",
       "8   24           Private  369667  Some-college               10   \n",
       "9   55           Private  104996       7th-8th                4   \n",
       "\n",
       "       marital-status         occupation   relationship   race  gender  \\\n",
       "0       Never-married  Machine-op-inspct      Own-child  Black    Male   \n",
       "1  Married-civ-spouse    Farming-fishing        Husband  White    Male   \n",
       "2  Married-civ-spouse    Protective-serv        Husband  White    Male   \n",
       "3  Married-civ-spouse  Machine-op-inspct        Husband  Black    Male   \n",
       "4       Never-married                  ?      Own-child  White  Female   \n",
       "5       Never-married      Other-service  Not-in-family  White    Male   \n",
       "6       Never-married                  ?      Unmarried  Black    Male   \n",
       "7  Married-civ-spouse     Prof-specialty        Husband  White    Male   \n",
       "8       Never-married      Other-service      Unmarried  White  Female   \n",
       "9  Married-civ-spouse       Craft-repair        Husband  White    Male   \n",
       "\n",
       "   capital-gain  capital-loss  hours-per-week native-country income  \n",
       "0           0.0           0.0            40.0  United-States  <=50K  \n",
       "1           0.0           0.0            50.0  United-States  <=50K  \n",
       "2           0.0           0.0            40.0  United-States   >50K  \n",
       "3        7688.0           0.0            40.0  United-States   >50K  \n",
       "4           0.0           0.0            30.0  United-States  <=50K  \n",
       "5           0.0           0.0            30.0  United-States  <=50K  \n",
       "6           0.0           0.0            40.0  United-States  <=50K  \n",
       "7        3103.0           0.0            32.0  United-States   >50K  \n",
       "8           0.0           0.0            40.0  United-States  <=50K  \n",
       "9           0.0           0.0            10.0  United-States  <=50K  "
      ]
     },
     "execution_count": 2,
     "metadata": {},
     "output_type": "execute_result"
    }
   ],
   "source": [
    "data=pd.read_csv('adult.csv')\n",
    "data.head(10)"
   ]
  },
  {
   "cell_type": "code",
   "execution_count": 4,
   "id": "0e7c7a98",
   "metadata": {},
   "outputs": [
    {
     "data": {
      "text/plain": [
       "(9615, 15)"
      ]
     },
     "execution_count": 4,
     "metadata": {},
     "output_type": "execute_result"
    }
   ],
   "source": [
    "data.shape"
   ]
  },
  {
   "cell_type": "code",
   "execution_count": 5,
   "id": "ef83cdcf",
   "metadata": {},
   "outputs": [
    {
     "name": "stdout",
     "output_type": "stream",
     "text": [
      "<class 'pandas.core.frame.DataFrame'>\n",
      "RangeIndex: 9615 entries, 0 to 9614\n",
      "Data columns (total 15 columns):\n",
      " #   Column           Non-Null Count  Dtype  \n",
      "---  ------           --------------  -----  \n",
      " 0   age              9615 non-null   int64  \n",
      " 1   workclass        9615 non-null   object \n",
      " 2   fnlwgt           9615 non-null   int64  \n",
      " 3   education        9615 non-null   object \n",
      " 4   educational-num  9615 non-null   int64  \n",
      " 5   marital-status   9615 non-null   object \n",
      " 6   occupation       9615 non-null   object \n",
      " 7   relationship     9615 non-null   object \n",
      " 8   race             9614 non-null   object \n",
      " 9   gender           9614 non-null   object \n",
      " 10  capital-gain     9614 non-null   float64\n",
      " 11  capital-loss     9614 non-null   float64\n",
      " 12  hours-per-week   9614 non-null   float64\n",
      " 13  native-country   9614 non-null   object \n",
      " 14  income           9614 non-null   object \n",
      "dtypes: float64(3), int64(3), object(9)\n",
      "memory usage: 1.1+ MB\n"
     ]
    }
   ],
   "source": [
    "data.info()"
   ]
  },
  {
   "cell_type": "code",
   "execution_count": 6,
   "id": "df87836b",
   "metadata": {},
   "outputs": [
    {
     "data": {
      "text/plain": [
       "age                0\n",
       "workclass          0\n",
       "fnlwgt             0\n",
       "education          0\n",
       "educational-num    0\n",
       "marital-status     0\n",
       "occupation         0\n",
       "relationship       0\n",
       "race               1\n",
       "gender             1\n",
       "capital-gain       1\n",
       "capital-loss       1\n",
       "hours-per-week     1\n",
       "native-country     1\n",
       "income             1\n",
       "dtype: int64"
      ]
     },
     "execution_count": 6,
     "metadata": {},
     "output_type": "execute_result"
    }
   ],
   "source": [
    "data.isnull().sum(0)"
   ]
  },
  {
   "cell_type": "code",
   "execution_count": 7,
   "id": "5390e5e8",
   "metadata": {},
   "outputs": [
    {
     "data": {
      "text/plain": [
       "age                0.0000\n",
       "workclass          0.0000\n",
       "fnlwgt             0.0000\n",
       "education          0.0000\n",
       "educational-num    0.0000\n",
       "marital-status     0.0000\n",
       "occupation         0.0000\n",
       "relationship       0.0000\n",
       "race               0.0104\n",
       "gender             0.0104\n",
       "capital-gain       0.0104\n",
       "capital-loss       0.0104\n",
       "hours-per-week     0.0104\n",
       "native-country     0.0104\n",
       "income             0.0104\n",
       "dtype: float64"
      ]
     },
     "execution_count": 7,
     "metadata": {},
     "output_type": "execute_result"
    }
   ],
   "source": [
    "per_missing=data.isnull().sum()*100/len(data)\n",
    "per_missing"
   ]
  },
  {
   "cell_type": "code",
   "execution_count": 9,
   "id": "07f79eab",
   "metadata": {},
   "outputs": [
    {
     "name": "stdout",
     "output_type": "stream",
     "text": [
      "Average age: 38.732397295891836\n"
     ]
    }
   ],
   "source": [
    "average_age = data['age'].mean()\n",
    "print(\"Average age:\", average_age)"
   ]
  },
  {
   "cell_type": "code",
   "execution_count": 10,
   "id": "c1369bae",
   "metadata": {},
   "outputs": [
    {
     "name": "stdout",
     "output_type": "stream",
     "text": [
      "Most common occupation among individuals earning more than 50K: Exec-managerial\n"
     ]
    }
   ],
   "source": [
    "most_common_occupation = data[data['income'] == '>50K']['occupation'].mode()[0]\n",
    "print(\"Most common occupation among individuals earning more than 50K:\", most_common_occupation)"
   ]
  },
  {
   "cell_type": "code",
   "execution_count": 12,
   "id": "753f79ec",
   "metadata": {},
   "outputs": [
    {
     "name": "stdout",
     "output_type": "stream",
     "text": [
      "Percentage of individuals who are married among those earning less than or equal to 50K: 32.327351821642196\n"
     ]
    }
   ],
   "source": [
    "married_percentage = (data[data['income'] == '<=50K']['marital-status'] == 'Married-civ-spouse').mean() * 100\n",
    "print(\"Percentage of individuals who are married among those earning less than or equal to 50K:\", married_percentage)"
   ]
  },
  {
   "cell_type": "code",
   "execution_count": 14,
   "id": "2c354601",
   "metadata": {},
   "outputs": [
    {
     "name": "stdout",
     "output_type": "stream",
     "text": [
      "Number of individuals with capital gains greater than 5000: 473\n"
     ]
    }
   ],
   "source": [
    "capital_gains_gt_5000 = data[data['capital-gain'] > 5000].shape[0]\n",
    "print(\"Number of individuals with capital gains greater than 5000:\", capital_gains_gt_5000)"
   ]
  },
  {
   "cell_type": "code",
   "execution_count": 15,
   "id": "ec0eceed",
   "metadata": {},
   "outputs": [
    {
     "name": "stdout",
     "output_type": "stream",
     "text": [
      "Average number of hours per week worked by individuals earning more than 50K: 45.651461470327725\n"
     ]
    }
   ],
   "source": [
    "average_hours_per_week_gt_50K = data[data['income'] == '>50K']['hours-per-week'].mean()\n",
    "print(\"Average number of hours per week worked by individuals earning more than 50K:\", average_hours_per_week_gt_50K)"
   ]
  },
  {
   "cell_type": "code",
   "execution_count": 16,
   "id": "670c8e5e",
   "metadata": {},
   "outputs": [
    {
     "name": "stdout",
     "output_type": "stream",
     "text": [
      "Proportion of males and females in the dataset:\n",
      " gender\n",
      "Male      66.6632\n",
      "Female    33.3368\n",
      "Name: proportion, dtype: float64\n"
     ]
    }
   ],
   "source": [
    "gender_proportion = data['gender'].value_counts(normalize=True) * 100\n",
    "print(\"Proportion of males and females in the dataset:\\n\", gender_proportion)"
   ]
  },
  {
   "cell_type": "code",
   "execution_count": 17,
   "id": "bbef862a",
   "metadata": {},
   "outputs": [
    {
     "name": "stdout",
     "output_type": "stream",
     "text": [
      "Average age of individuals grouped by marital status:\n",
      " marital-status\n",
      "Divorced                 43.226401\n",
      "Married-AF-spouse        31.111111\n",
      "Married-civ-spouse       43.645461\n",
      "Married-spouse-absent    41.092308\n",
      "Never-married            28.054972\n",
      "Separated                39.768456\n",
      "Widowed                  59.975758\n",
      "Name: age, dtype: float64\n"
     ]
    }
   ],
   "source": [
    "average_age_by_marital_status = data.groupby('marital-status')['age'].mean()\n",
    "print(\"Average age of individuals grouped by marital status:\\n\", average_age_by_marital_status)"
   ]
  },
  {
   "cell_type": "code",
   "execution_count": 19,
   "id": "5cbd3f62",
   "metadata": {},
   "outputs": [
    {
     "name": "stdout",
     "output_type": "stream",
     "text": [
      "Average age of individuals who work in the private sector: 37.101308183754185\n"
     ]
    }
   ],
   "source": [
    "average_age_private_sector = data[data['workclass'] == 'Private']['age'].mean()\n",
    "print(\"Average age of individuals who work in the private sector:\", average_age_private_sector)"
   ]
  },
  {
   "cell_type": "code",
   "execution_count": 20,
   "id": "6e8e9311",
   "metadata": {},
   "outputs": [
    {
     "name": "stdout",
     "output_type": "stream",
     "text": [
      "Number of individuals with missing values in their occupation: 585\n"
     ]
    }
   ],
   "source": [
    "missing_occupation_count = data[data['occupation'] == '?'].shape[0]\n",
    "print(\"Number of individuals with missing values in their occupation:\", missing_occupation_count)"
   ]
  },
  {
   "cell_type": "code",
   "execution_count": 22,
   "id": "f171603e",
   "metadata": {},
   "outputs": [
    {
     "name": "stdout",
     "output_type": "stream",
     "text": [
      "Relationship between educational-num and income:\n",
      " income\n",
      "<=50K     9.624660\n",
      ">50K     11.563773\n",
      "Name: educational-num, dtype: float64\n"
     ]
    }
   ],
   "source": [
    "education_income_relationship = data.groupby('income')['educational-num'].mean()\n",
    "print(\"Relationship between educational-num and income:\\n\", education_income_relationship)"
   ]
  },
  {
   "cell_type": "markdown",
   "id": "65605d79",
   "metadata": {},
   "source": [
    "What is the average age of individuals in the dataset?\n",
    "\n",
    "What is the most common occupation among individuals who earn more than 50K?\n",
    "\n",
    "What is the percentage of individuals who are married among those who earn less than or equal to 50K?\n",
    "\n",
    "How many individuals have capital gains greater than 5000?\n",
    "\n",
    "What is the average number of hours per week worked by individuals who earn more than 50K?\n",
    "\n",
    "What is the distribution of education levels among individuals who earn more than 50K?\n",
    "\n",
    "What is the average capital gain among individuals who are married?\n",
    "\n",
    "How many unique native countries are represented in the dataset?\n",
    "\n",
    "What is the proportion of males and females in the dataset?\n",
    "\n",
    "What is the average age of individuals grouped by their marital status?\n",
    "\n",
    "Among individuals who work in the private sector, what is the average age?\n",
    "\n",
    "How many individuals have missing values (represented as '?') in their occupation?\n",
    "\n",
    "What is the relationship between educational-num and income?"
   ]
  }
 ],
 "metadata": {
  "kernelspec": {
   "display_name": "Python 3 (ipykernel)",
   "language": "python",
   "name": "python3"
  },
  "language_info": {
   "codemirror_mode": {
    "name": "ipython",
    "version": 3
   },
   "file_extension": ".py",
   "mimetype": "text/x-python",
   "name": "python",
   "nbconvert_exporter": "python",
   "pygments_lexer": "ipython3",
   "version": "3.11.4"
  }
 },
 "nbformat": 4,
 "nbformat_minor": 5
}
